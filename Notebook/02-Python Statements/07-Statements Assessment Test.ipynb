{
 "cells": [
  {
   "cell_type": "markdown",
   "metadata": {},
   "source": [
    "# Statements Assessment Test\n",
    "Let's test your knowledge!"
   ]
  },
  {
   "cell_type": "markdown",
   "metadata": {},
   "source": [
    "_____\n",
    "**Use <code>for</code>, .split(), and <code>if</code> to create a Statement that will print out words that start with 's':**"
   ]
  },
  {
   "cell_type": "code",
   "execution_count": 5,
   "metadata": {},
   "outputs": [],
   "source": [
    "st = 'Print only the words that start with s in this sentence'"
   ]
  },
  {
   "cell_type": "code",
   "execution_count": 11,
   "metadata": {},
   "outputs": [
    {
     "name": "stdout",
     "output_type": "stream",
     "text": [
      "start\n",
      "s\n",
      "sentence\n"
     ]
    }
   ],
   "source": [
    "for i in st.split():\n",
    "    if i[0] == 's':\n",
    "        print(i)"
   ]
  },
  {
   "cell_type": "markdown",
   "metadata": {},
   "source": [
    "______\n",
    "**Use range() to print all the even numbers from 0 to 10.**"
   ]
  },
  {
   "cell_type": "code",
   "execution_count": 16,
   "metadata": {},
   "outputs": [
    {
     "name": "stdout",
     "output_type": "stream",
     "text": [
      "[0, 1, 2, 3, 4, 5, 6, 7, 8, 9, 10]\n"
     ]
    }
   ],
   "source": [
    "x = list(range(0,11))\n",
    "print(x)"
   ]
  },
  {
   "cell_type": "markdown",
   "metadata": {},
   "source": [
    "___\n",
    "**Use a List Comprehension to create a list of all numbers between 1 and 50 that are divisible by 3.**"
   ]
  },
  {
   "cell_type": "code",
   "execution_count": 18,
   "metadata": {},
   "outputs": [
    {
     "name": "stdout",
     "output_type": "stream",
     "text": [
      "[3, 6, 9, 12, 15, 18, 21, 24, 27, 30, 33, 36, 39, 42, 45, 48]\n"
     ]
    }
   ],
   "source": [
    "#Code in this cell\n",
    "var = [x for x in range(1,51) if x%3==0]\n",
    "print(var)"
   ]
  },
  {
   "cell_type": "markdown",
   "metadata": {},
   "source": [
    "_____\n",
    "**Go through the string below and if the length of a word is even print \"even!\"**"
   ]
  },
  {
   "cell_type": "code",
   "execution_count": null,
   "metadata": {},
   "outputs": [],
   "source": [
    "st = 'Print every word in this sentence that has an even number of letters'"
   ]
  },
  {
   "cell_type": "code",
   "execution_count": null,
   "metadata": {},
   "outputs": [],
   "source": [
    "#Code in this cell"
   ]
  },
  {
   "cell_type": "markdown",
   "metadata": {},
   "source": [
    "____\n",
    "**Write a program that prints the integers from 1 to 100. But for multiples of three print \"Fizz\" instead of the number, and for the multiples of five print \"Buzz\". For numbers which are multiples of both three and five print \"FizzBuzz\".**"
   ]
  },
  {
   "cell_type": "code",
   "execution_count": 4,
   "metadata": {},
   "outputs": [
    {
     "name": "stdout",
     "output_type": "stream",
     "text": [
      "1 is Stupid\n",
      "2 is Stupid\n",
      "3 is Fizz\n",
      "4 is Stupid\n",
      "5 is Buzz\n",
      "6 is Fizz\n",
      "7 is Stupid\n",
      "8 is Stupid\n",
      "9 is Fizz\n",
      "10 is Buzz\n",
      "11 is Stupid\n",
      "12 is Fizz\n",
      "13 is Stupid\n",
      "14 is Stupid\n",
      "15 is FizzBuzz\n",
      "16 is Stupid\n",
      "17 is Stupid\n",
      "18 is Fizz\n",
      "19 is Stupid\n",
      "20 is Buzz\n",
      "21 is Fizz\n",
      "22 is Stupid\n",
      "23 is Stupid\n",
      "24 is Fizz\n",
      "25 is Buzz\n",
      "26 is Stupid\n",
      "27 is Fizz\n",
      "28 is Stupid\n",
      "29 is Stupid\n",
      "30 is FizzBuzz\n",
      "31 is Stupid\n",
      "32 is Stupid\n",
      "33 is Fizz\n",
      "34 is Stupid\n",
      "35 is Buzz\n",
      "36 is Fizz\n",
      "37 is Stupid\n",
      "38 is Stupid\n",
      "39 is Fizz\n",
      "40 is Buzz\n",
      "41 is Stupid\n",
      "42 is Fizz\n",
      "43 is Stupid\n",
      "44 is Stupid\n",
      "45 is FizzBuzz\n",
      "46 is Stupid\n",
      "47 is Stupid\n",
      "48 is Fizz\n",
      "49 is Stupid\n",
      "50 is Buzz\n",
      "51 is Fizz\n",
      "52 is Stupid\n",
      "53 is Stupid\n",
      "54 is Fizz\n",
      "55 is Buzz\n",
      "56 is Stupid\n",
      "57 is Fizz\n",
      "58 is Stupid\n",
      "59 is Stupid\n",
      "60 is FizzBuzz\n",
      "61 is Stupid\n",
      "62 is Stupid\n",
      "63 is Fizz\n",
      "64 is Stupid\n",
      "65 is Buzz\n",
      "66 is Fizz\n",
      "67 is Stupid\n",
      "68 is Stupid\n",
      "69 is Fizz\n",
      "70 is Buzz\n",
      "71 is Stupid\n",
      "72 is Fizz\n",
      "73 is Stupid\n",
      "74 is Stupid\n",
      "75 is FizzBuzz\n",
      "76 is Stupid\n",
      "77 is Stupid\n",
      "78 is Fizz\n",
      "79 is Stupid\n",
      "80 is Buzz\n",
      "81 is Fizz\n",
      "82 is Stupid\n",
      "83 is Stupid\n",
      "84 is Fizz\n",
      "85 is Buzz\n",
      "86 is Stupid\n",
      "87 is Fizz\n",
      "88 is Stupid\n",
      "89 is Stupid\n",
      "90 is FizzBuzz\n",
      "91 is Stupid\n",
      "92 is Stupid\n",
      "93 is Fizz\n",
      "94 is Stupid\n",
      "95 is Buzz\n",
      "96 is Fizz\n",
      "97 is Stupid\n",
      "98 is Stupid\n",
      "99 is Fizz\n",
      "100 is Buzz\n"
     ]
    }
   ],
   "source": [
    "rr = range(1,101)\n",
    "for i in rr:\n",
    "    if i%3==0 and i%5==0:\n",
    "        print(f\"{i} is FizzBuzz\")\n",
    "    elif i%3==0:\n",
    "        print(f\"{i} is Fizz\")\n",
    "    elif i%5==0:\n",
    "        print(f\"{i} is Buzz\")\n",
    "    else:\n",
    "        print(f\"{i} is Stupid\")"
   ]
  },
  {
   "cell_type": "markdown",
   "metadata": {},
   "source": [
    "____\n",
    "**Use List Comprehension to create a list of the first letters of every word in the string below:**"
   ]
  },
  {
   "cell_type": "code",
   "execution_count": 10,
   "metadata": {},
   "outputs": [],
   "source": [
    "st = 'Create a list of the first letters of every word in this string'"
   ]
  },
  {
   "cell_type": "code",
   "execution_count": 14,
   "metadata": {},
   "outputs": [
    {
     "name": "stdout",
     "output_type": "stream",
     "text": [
      "['C', 'a', 'l', 'o', 't', 'f', 'l', 'o', 'e', 'w', 'i', 't', 's']\n"
     ]
    }
   ],
   "source": [
    "v = [i[0] for i in st.split()]\n",
    "print(v)"
   ]
  },
  {
   "cell_type": "markdown",
   "metadata": {},
   "source": [
    "### Great Job!"
   ]
  }
 ],
 "metadata": {
  "kernelspec": {
   "display_name": "Python 3",
   "language": "python",
   "name": "python3"
  },
  "language_info": {
   "codemirror_mode": {
    "name": "ipython",
    "version": 3
   },
   "file_extension": ".py",
   "mimetype": "text/x-python",
   "name": "python",
   "nbconvert_exporter": "python",
   "pygments_lexer": "ipython3",
   "version": "3.7.3"
  }
 },
 "nbformat": 4,
 "nbformat_minor": 2
}
